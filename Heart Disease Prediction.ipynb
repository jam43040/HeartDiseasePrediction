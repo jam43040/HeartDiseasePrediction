{
 "cells": [
  {
   "cell_type": "markdown",
   "id": "a82bdf36",
   "metadata": {},
   "source": [
    "# Heart Disease Prediction using SciKit-Learn and Pandas"
   ]
  },
  {
   "cell_type": "markdown",
   "id": "77466dc5",
   "metadata": {},
   "source": [
    "## Introduction"
   ]
  },
  {
   "cell_type": "markdown",
   "id": "2ec73bc0",
   "metadata": {},
   "source": [
    "### Project Description"
   ]
  },
  {
   "cell_type": "markdown",
   "id": "21a6868f",
   "metadata": {},
   "source": [
    "#### This project looks at several key health indicators to predict patient heart disease status. The model looks at features including blood pressure, age, glucose level, cholesterol, gender, and many others (see the linked dataset for more information). In this project, I performed exploratory data analysis, built several machine learning models in Sci Kit Learn, and evaluated them. These models include K Nearest Neighbors, Logistic Regression, Random Forest, and a Voting Classifier combining these 3 (more models may be added later). This project utilizes several packages, including Pandas for data processing, Sci Kit Learn for ML models, and a little Seaborn in combination with MatPlotLib for visualization. However, the vast majority of library use is Pandas and Sci Kit Learn."
   ]
  },
  {
   "cell_type": "markdown",
   "id": "8cd44637",
   "metadata": {},
   "source": [
    "### Further Resources and Dataset"
   ]
  },
  {
   "cell_type": "markdown",
   "id": "cb33da57",
   "metadata": {},
   "source": [
    "#### Here is a link to a short description of the models used in this notebook that I wrote: https://docs.google.com/document/d/16NcIrCKdYEvDx1Z7Q63QNwTypqvZhy1UBmb9carvOxY/edit?usp=sharing\n",
    "\n",
    "#### Dataset: https://www.kaggle.com/datasets/fedesoriano/heart-failure-prediction"
   ]
  },
  {
   "cell_type": "markdown",
   "id": "5cbb2b5a",
   "metadata": {},
   "source": [
    "## Imports and data preparation"
   ]
  },
  {
   "cell_type": "code",
   "execution_count": 1,
   "id": "017926d0",
   "metadata": {},
   "outputs": [],
   "source": [
    "#Data preprocessing and preparation\n",
    "import pandas as pd\n",
    "from sklearn.preprocessing import scale\n",
    "from sklearn.preprocessing import StandardScaler\n",
    "from sklearn.model_selection import train_test_split \n",
    "from sklearn.impute import KNNImputer\n",
    "import numpy as np\n",
    "\n",
    "#Models\n",
    "from sklearn.ensemble import VotingClassifier\n",
    "from sklearn.linear_model import LogisticRegression\n",
    "from sklearn.ensemble import RandomForestClassifier\n",
    "from sklearn.neighbors import KNeighborsClassifier \n",
    "from sklearn.ensemble import HistGradientBoostingClassifier\n",
    "from sklearn.neural_network import MLPClassifier\n",
    "\n",
    "\n",
    "#Visualization\n",
    "import seaborn as sns\n",
    "import matplotlib.pyplot as plt\n",
    "\n",
    "#Evaluation\n",
    "from sklearn.model_selection import cross_val_score as cvs\n",
    "from sklearn.metrics import roc_curve\n",
    "from sklearn.metrics import classification_report\n",
    "from sklearn.metrics import confusion_matrix\n",
    "from sklearn.metrics import roc_curve\n",
    "from sklearn.metrics import roc_auc_score\n",
    "from sklearn.metrics import f1_score\n",
    "from sklearn.metrics import accuracy_score\n",
    "from sklearn.metrics import precision_recall_fscore_support\n",
    "\n",
    "\n",
    "#Optimization\n",
    "from sklearn.model_selection import RandomizedSearchCV\n",
    "from sklearn.model_selection import GridSearchCV"
   ]
  },
  {
   "cell_type": "code",
   "execution_count": 2,
   "id": "65c4c0f1",
   "metadata": {
    "scrolled": false
   },
   "outputs": [
    {
     "data": {
      "text/html": [
       "<div>\n",
       "<style scoped>\n",
       "    .dataframe tbody tr th:only-of-type {\n",
       "        vertical-align: middle;\n",
       "    }\n",
       "\n",
       "    .dataframe tbody tr th {\n",
       "        vertical-align: top;\n",
       "    }\n",
       "\n",
       "    .dataframe thead th {\n",
       "        text-align: right;\n",
       "    }\n",
       "</style>\n",
       "<table border=\"1\" class=\"dataframe\">\n",
       "  <thead>\n",
       "    <tr style=\"text-align: right;\">\n",
       "      <th></th>\n",
       "      <th>Age</th>\n",
       "      <th>Sex</th>\n",
       "      <th>ChestPainType</th>\n",
       "      <th>RestingBP</th>\n",
       "      <th>Cholesterol</th>\n",
       "      <th>FastingBS</th>\n",
       "      <th>RestingECG</th>\n",
       "      <th>MaxHR</th>\n",
       "      <th>ExerciseAngina</th>\n",
       "      <th>Oldpeak</th>\n",
       "      <th>ST_Slope</th>\n",
       "      <th>HeartDisease</th>\n",
       "    </tr>\n",
       "  </thead>\n",
       "  <tbody>\n",
       "    <tr>\n",
       "      <th>0</th>\n",
       "      <td>40</td>\n",
       "      <td>1</td>\n",
       "      <td>ATA</td>\n",
       "      <td>140</td>\n",
       "      <td>289</td>\n",
       "      <td>0</td>\n",
       "      <td>Normal</td>\n",
       "      <td>172</td>\n",
       "      <td>0</td>\n",
       "      <td>0.0</td>\n",
       "      <td>Up</td>\n",
       "      <td>0</td>\n",
       "    </tr>\n",
       "    <tr>\n",
       "      <th>1</th>\n",
       "      <td>49</td>\n",
       "      <td>0</td>\n",
       "      <td>NAP</td>\n",
       "      <td>160</td>\n",
       "      <td>180</td>\n",
       "      <td>0</td>\n",
       "      <td>Normal</td>\n",
       "      <td>156</td>\n",
       "      <td>0</td>\n",
       "      <td>1.0</td>\n",
       "      <td>Flat</td>\n",
       "      <td>1</td>\n",
       "    </tr>\n",
       "    <tr>\n",
       "      <th>2</th>\n",
       "      <td>37</td>\n",
       "      <td>1</td>\n",
       "      <td>ATA</td>\n",
       "      <td>130</td>\n",
       "      <td>283</td>\n",
       "      <td>0</td>\n",
       "      <td>ST</td>\n",
       "      <td>98</td>\n",
       "      <td>0</td>\n",
       "      <td>0.0</td>\n",
       "      <td>Up</td>\n",
       "      <td>0</td>\n",
       "    </tr>\n",
       "    <tr>\n",
       "      <th>3</th>\n",
       "      <td>48</td>\n",
       "      <td>0</td>\n",
       "      <td>ASY</td>\n",
       "      <td>138</td>\n",
       "      <td>214</td>\n",
       "      <td>0</td>\n",
       "      <td>Normal</td>\n",
       "      <td>108</td>\n",
       "      <td>1</td>\n",
       "      <td>1.5</td>\n",
       "      <td>Flat</td>\n",
       "      <td>1</td>\n",
       "    </tr>\n",
       "    <tr>\n",
       "      <th>4</th>\n",
       "      <td>54</td>\n",
       "      <td>1</td>\n",
       "      <td>NAP</td>\n",
       "      <td>150</td>\n",
       "      <td>195</td>\n",
       "      <td>0</td>\n",
       "      <td>Normal</td>\n",
       "      <td>122</td>\n",
       "      <td>0</td>\n",
       "      <td>0.0</td>\n",
       "      <td>Up</td>\n",
       "      <td>0</td>\n",
       "    </tr>\n",
       "  </tbody>\n",
       "</table>\n",
       "</div>"
      ],
      "text/plain": [
       "   Age  Sex ChestPainType  RestingBP  Cholesterol  FastingBS RestingECG  \\\n",
       "0   40    1           ATA        140          289          0     Normal   \n",
       "1   49    0           NAP        160          180          0     Normal   \n",
       "2   37    1           ATA        130          283          0         ST   \n",
       "3   48    0           ASY        138          214          0     Normal   \n",
       "4   54    1           NAP        150          195          0     Normal   \n",
       "\n",
       "   MaxHR  ExerciseAngina  Oldpeak ST_Slope  HeartDisease  \n",
       "0    172               0      0.0       Up             0  \n",
       "1    156               0      1.0     Flat             1  \n",
       "2     98               0      0.0       Up             0  \n",
       "3    108               1      1.5     Flat             1  \n",
       "4    122               0      0.0       Up             0  "
      ]
     },
     "execution_count": 2,
     "metadata": {},
     "output_type": "execute_result"
    }
   ],
   "source": [
    "#Create dataframe, drop rows where Cholesterol is missing, get dummy variables and make a second dataframe with them\n",
    "#Dataframe for visualization\n",
    "heart=pd.read_csv('heart.csv')\n",
    "heart=heart[heart.Cholesterol!=0]\n",
    "\n",
    "#Dataframe for ML models. Dummies are for categorical variables.\n",
    "heartWithDummies=pd.get_dummies(heart, drop_first=False)\n",
    "\n",
    "#Convert first dataframe categorical variables to binary categories to allow for pivot table calculations\n",
    "heart['Sex'].replace({'M':1, 'F':0}, inplace=True)\n",
    "heart['ExerciseAngina'].replace({'Y':1, 'N':0}, inplace=True)\n",
    "\n",
    "#Create variables to hold models, best models, scores, and best scores\n",
    "bestAcc=0\n",
    "bestROC_AUC=0\n",
    "bestF=0\n",
    "bestSingleAcc=0\n",
    "\n",
    "bestAccModel=''\n",
    "bestROCModel=''\n",
    "bestFModel=''\n",
    "bestSingleAccModel=''\n",
    "\n",
    "cvScores=[]\n",
    "models=[]\n",
    "auc=[]\n",
    "fScores=[]\n",
    "accuracyScores=[]\n",
    "\n",
    "#Display head of dataframe for reference\n",
    "heart.head()"
   ]
  },
  {
   "cell_type": "markdown",
   "id": "b0ed8657",
   "metadata": {},
   "source": [
    "## Exploratory Data Analysis"
   ]
  },
  {
   "cell_type": "markdown",
   "id": "aa025423",
   "metadata": {},
   "source": [
    "### Correlation Summary"
   ]
  },
  {
   "cell_type": "code",
   "execution_count": 3,
   "id": "6d795dc4",
   "metadata": {
    "scrolled": true
   },
   "outputs": [
    {
     "data": {
      "text/html": [
       "<style type=\"text/css\">\n",
       "</style>\n",
       "<table id=\"T_84dec\">\n",
       "  <caption>Pivot Table for Heart Disease Occurence and Health Information (Averages)</caption>\n",
       "  <thead>\n",
       "    <tr>\n",
       "      <th class=\"blank level0\" >&nbsp;</th>\n",
       "      <th id=\"T_84dec_level0_col0\" class=\"col_heading level0 col0\" >Age</th>\n",
       "      <th id=\"T_84dec_level0_col1\" class=\"col_heading level0 col1\" >Cholesterol</th>\n",
       "      <th id=\"T_84dec_level0_col2\" class=\"col_heading level0 col2\" >Exercise Angina (%)</th>\n",
       "      <th id=\"T_84dec_level0_col3\" class=\"col_heading level0 col3\" >Fasting Glucose Over 120 (%)</th>\n",
       "      <th id=\"T_84dec_level0_col4\" class=\"col_heading level0 col4\" >MaxHR</th>\n",
       "      <th id=\"T_84dec_level0_col5\" class=\"col_heading level0 col5\" >Oldpeak</th>\n",
       "      <th id=\"T_84dec_level0_col6\" class=\"col_heading level0 col6\" >RestingBP</th>\n",
       "      <th id=\"T_84dec_level0_col7\" class=\"col_heading level0 col7\" >Male percent of sample (%)</th>\n",
       "    </tr>\n",
       "    <tr>\n",
       "      <th class=\"index_name level0\" >HeartDisease</th>\n",
       "      <th class=\"blank col0\" >&nbsp;</th>\n",
       "      <th class=\"blank col1\" >&nbsp;</th>\n",
       "      <th class=\"blank col2\" >&nbsp;</th>\n",
       "      <th class=\"blank col3\" >&nbsp;</th>\n",
       "      <th class=\"blank col4\" >&nbsp;</th>\n",
       "      <th class=\"blank col5\" >&nbsp;</th>\n",
       "      <th class=\"blank col6\" >&nbsp;</th>\n",
       "      <th class=\"blank col7\" >&nbsp;</th>\n",
       "    </tr>\n",
       "  </thead>\n",
       "  <tbody>\n",
       "    <tr>\n",
       "      <th id=\"T_84dec_level0_row0\" class=\"row_heading level0 row0\" >No</th>\n",
       "      <td id=\"T_84dec_row0_col0\" class=\"data row0 col0\" >50.171795</td>\n",
       "      <td id=\"T_84dec_row0_col1\" class=\"data row0 col1\" >238.769231</td>\n",
       "      <td id=\"T_84dec_row0_col2\" class=\"data row0 col2\" >12.820513</td>\n",
       "      <td id=\"T_84dec_row0_col3\" class=\"data row0 col3\" >11.025641</td>\n",
       "      <td id=\"T_84dec_row0_col4\" class=\"data row0 col4\" >149.058974</td>\n",
       "      <td id=\"T_84dec_row0_col5\" class=\"data row0 col5\" >0.393846</td>\n",
       "      <td id=\"T_84dec_row0_col6\" class=\"data row0 col6\" >130.164103</td>\n",
       "      <td id=\"T_84dec_row0_col7\" class=\"data row0 col7\" >63.589744</td>\n",
       "    </tr>\n",
       "    <tr>\n",
       "      <th id=\"T_84dec_level0_row1\" class=\"row_heading level0 row1\" >Yes</th>\n",
       "      <td id=\"T_84dec_row1_col0\" class=\"data row1 col0\" >55.851124</td>\n",
       "      <td id=\"T_84dec_row1_col1\" class=\"data row1 col1\" >251.061798</td>\n",
       "      <td id=\"T_84dec_row1_col2\" class=\"data row1 col2\" >66.573034</td>\n",
       "      <td id=\"T_84dec_row1_col3\" class=\"data row1 col3\" >23.033708</td>\n",
       "      <td id=\"T_84dec_row1_col4\" class=\"data row1 col4\" >130.550562</td>\n",
       "      <td id=\"T_84dec_row1_col5\" class=\"data row1 col5\" >1.457865</td>\n",
       "      <td id=\"T_84dec_row1_col6\" class=\"data row1 col6\" >136.154494</td>\n",
       "      <td id=\"T_84dec_row1_col7\" class=\"data row1 col7\" >88.764045</td>\n",
       "    </tr>\n",
       "  </tbody>\n",
       "</table>\n"
      ],
      "text/plain": [
       "<pandas.io.formats.style.Styler at 0x7fdda33ea310>"
      ]
     },
     "metadata": {},
     "output_type": "display_data"
    }
   ],
   "source": [
    "#Create pivot table based on heart disease status and other factors\n",
    "pivot=heart.pivot_table(values=['Age', \"Sex\", \"RestingBP\", \"Cholesterol\", \"FastingBS\", \"MaxHR\", \"ExerciseAngina\",\"Oldpeak\"],index='HeartDisease')\n",
    "\n",
    "#Transform proportions into percentages\n",
    "pivot.rename(columns={'FastingBS': 'Fasting Glucose Over 120 (%)', 'ExerciseAngina': 'Exercise Angina (%)','Sex': 'Male percent of sample (%)'}, inplace=True)\n",
    "\n",
    "pivot['Fasting Glucose Over 120 (%)'] = pivot['Fasting Glucose Over 120 (%)']*100\n",
    "pivot['Exercise Angina (%)'] = pivot['Exercise Angina (%)']*100\n",
    "pivot['Male percent of sample (%)'] = pivot['Male percent of sample (%)']*100\n",
    "\n",
    "pivot.rename(index={0:\"No\", 1:\"Yes\"}, inplace=True)\n",
    "\n",
    "#Add caption and display pivot table\n",
    "captioned = pivot.style.set_caption('Pivot Table for Heart Disease Occurence and Health Information (Averages)')\n",
    "display(captioned)"
   ]
  },
  {
   "cell_type": "code",
   "execution_count": 4,
   "id": "894cb69a",
   "metadata": {},
   "outputs": [
    {
     "data": {
      "text/plain": [
       "<AxesSubplot:title={'center':'Health Factors by Heart Disease Status'}, xlabel='Had Heart Disease'>"
      ]
     },
     "execution_count": 4,
     "metadata": {},
     "output_type": "execute_result"
    },
    {
     "data": {
      "image/png": "[encoded data removed]",
      "text/plain": [
       "<Figure size 432x288 with 1 Axes>"
      ]
     },
     "metadata": {
      "needs_background": "light"
     },
     "output_type": "display_data"
    }
   ],
   "source": [
    "pivot.plot(kind='bar', title= \"Health Factors by Heart Disease Status\", xlabel='Had Heart Disease')"
   ]
  },
  {
   "cell_type": "code",
   "execution_count": 5,
   "id": "876e4d34",
   "metadata": {
    "scrolled": true
   },
   "outputs": [
    {
     "data": {
      "text/plain": [
       "<AxesSubplot:>"
      ]
     },
     "execution_count": 5,
     "metadata": {},
     "output_type": "execute_result"
    },
    {
     "data": {
      "image/png": "[encoded data removed]",
      "text/plain": [
       "<Figure size 432x288 with 2 Axes>"
      ]
     },
     "metadata": {
      "needs_background": "light"
     },
     "output_type": "display_data"
    }
   ],
   "source": [
    "#Generate heatmap for correlation on dataframe, with dummy variables\n",
    "sns.heatmap(heartWithDummies.corr(), square=True, cmap = 'RdYlGn')"
   ]
  },
  {
   "cell_type": "code",
   "execution_count": 6,
   "id": "fb78fa44",
   "metadata": {
    "scrolled": true
   },
   "outputs": [
    {
     "data": {
      "text/plain": [
       "<AxesSubplot:>"
      ]
     },
     "execution_count": 6,
     "metadata": {},
     "output_type": "execute_result"
    },
    {
     "data": {
      "image/png": "[encoded data removed]",
      "text/plain": [
       "<Figure size 432x288 with 2 Axes>"
      ]
     },
     "metadata": {
      "needs_background": "light"
     },
     "output_type": "display_data"
    }
   ],
   "source": [
    "#Generate heatmap for correlation on dataframe, without dummy variables\n",
    "sns.heatmap(heart.corr(), square=True, cmap = 'RdYlGn')"
   ]
  },
  {
   "cell_type": "code",
   "execution_count": 7,
   "id": "b1b71657",
   "metadata": {},
   "outputs": [
    {
     "data": {
      "text/plain": [
       "<AxesSubplot:title={'center':'Heart Indicators vs Age'}, xlabel='Age'>"
      ]
     },
     "execution_count": 7,
     "metadata": {},
     "output_type": "execute_result"
    },
    {
     "data": {
      "image/png": "[encoded data removed]",
      "text/plain": [
       "<Figure size 432x288 with 1 Axes>"
      ]
     },
     "metadata": {
      "needs_background": "light"
     },
     "output_type": "display_data"
    }
   ],
   "source": [
    "#Display a graph for factors based on heart disease presence\n",
    "\n",
    "agePlot=heart.pivot_table(values=['MaxHR',  \"RestingBP\"],index='Age')\n",
    "agePlot.plot(title='Heart Indicators vs Age')"
   ]
  },
  {
   "cell_type": "code",
   "execution_count": 8,
   "id": "d48d3b97",
   "metadata": {},
   "outputs": [
    {
     "data": {
      "text/plain": [
       "<AxesSubplot:title={'center':'Peak vs Age'}, xlabel='Age'>"
      ]
     },
     "execution_count": 8,
     "metadata": {},
     "output_type": "execute_result"
    },
    {
     "data": {
      "image/png": "[encoded data removed]",
      "text/plain": [
       "<Figure size 432x288 with 1 Axes>"
      ]
     },
     "metadata": {
      "needs_background": "light"
     },
     "output_type": "display_data"
    }
   ],
   "source": [
    "agePlot=heart.pivot_table(values=['Oldpeak'],index='Age')\n",
    "agePlot.plot(title='Peak vs Age')"
   ]
  },
  {
   "cell_type": "markdown",
   "id": "ee0310ea",
   "metadata": {},
   "source": [
    "###  Numeric Data Summary"
   ]
  },
  {
   "cell_type": "code",
   "execution_count": 9,
   "id": "facf85a9",
   "metadata": {},
   "outputs": [
    {
     "data": {
      "text/html": [
       "<div>\n",
       "<style scoped>\n",
       "    .dataframe tbody tr th:only-of-type {\n",
       "        vertical-align: middle;\n",
       "    }\n",
       "\n",
       "    .dataframe tbody tr th {\n",
       "        vertical-align: top;\n",
       "    }\n",
       "\n",
       "    .dataframe thead th {\n",
       "        text-align: right;\n",
       "    }\n",
       "</style>\n",
       "<table border=\"1\" class=\"dataframe\">\n",
       "  <thead>\n",
       "    <tr style=\"text-align: right;\">\n",
       "      <th></th>\n",
       "      <th>Age</th>\n",
       "      <th>RestingBP</th>\n",
       "      <th>Cholesterol</th>\n",
       "      <th>MaxHR</th>\n",
       "      <th>Oldpeak</th>\n",
       "    </tr>\n",
       "  </thead>\n",
       "  <tbody>\n",
       "    <tr>\n",
       "      <th>count</th>\n",
       "      <td>746.000000</td>\n",
       "      <td>746.000000</td>\n",
       "      <td>746.000000</td>\n",
       "      <td>746.000000</td>\n",
       "      <td>746.000000</td>\n",
       "    </tr>\n",
       "    <tr>\n",
       "      <th>mean</th>\n",
       "      <td>52.882038</td>\n",
       "      <td>133.022788</td>\n",
       "      <td>244.635389</td>\n",
       "      <td>140.226542</td>\n",
       "      <td>0.901609</td>\n",
       "    </tr>\n",
       "    <tr>\n",
       "      <th>std</th>\n",
       "      <td>9.505888</td>\n",
       "      <td>17.282750</td>\n",
       "      <td>59.153524</td>\n",
       "      <td>24.524107</td>\n",
       "      <td>1.072861</td>\n",
       "    </tr>\n",
       "    <tr>\n",
       "      <th>min</th>\n",
       "      <td>28.000000</td>\n",
       "      <td>92.000000</td>\n",
       "      <td>85.000000</td>\n",
       "      <td>69.000000</td>\n",
       "      <td>-0.100000</td>\n",
       "    </tr>\n",
       "    <tr>\n",
       "      <th>25%</th>\n",
       "      <td>46.000000</td>\n",
       "      <td>120.000000</td>\n",
       "      <td>207.250000</td>\n",
       "      <td>122.000000</td>\n",
       "      <td>0.000000</td>\n",
       "    </tr>\n",
       "    <tr>\n",
       "      <th>50%</th>\n",
       "      <td>54.000000</td>\n",
       "      <td>130.000000</td>\n",
       "      <td>237.000000</td>\n",
       "      <td>140.000000</td>\n",
       "      <td>0.500000</td>\n",
       "    </tr>\n",
       "    <tr>\n",
       "      <th>75%</th>\n",
       "      <td>59.000000</td>\n",
       "      <td>140.000000</td>\n",
       "      <td>275.000000</td>\n",
       "      <td>160.000000</td>\n",
       "      <td>1.500000</td>\n",
       "    </tr>\n",
       "    <tr>\n",
       "      <th>max</th>\n",
       "      <td>77.000000</td>\n",
       "      <td>200.000000</td>\n",
       "      <td>603.000000</td>\n",
       "      <td>202.000000</td>\n",
       "      <td>6.200000</td>\n",
       "    </tr>\n",
       "  </tbody>\n",
       "</table>\n",
       "</div>"
      ],
      "text/plain": [
       "              Age   RestingBP  Cholesterol       MaxHR     Oldpeak\n",
       "count  746.000000  746.000000   746.000000  746.000000  746.000000\n",
       "mean    52.882038  133.022788   244.635389  140.226542    0.901609\n",
       "std      9.505888   17.282750    59.153524   24.524107    1.072861\n",
       "min     28.000000   92.000000    85.000000   69.000000   -0.100000\n",
       "25%     46.000000  120.000000   207.250000  122.000000    0.000000\n",
       "50%     54.000000  130.000000   237.000000  140.000000    0.500000\n",
       "75%     59.000000  140.000000   275.000000  160.000000    1.500000\n",
       "max     77.000000  200.000000   603.000000  202.000000    6.200000"
      ]
     },
     "execution_count": 9,
     "metadata": {},
     "output_type": "execute_result"
    }
   ],
   "source": [
    "heart.describe().drop(columns=[\"Sex\", \"FastingBS\", \"ExerciseAngina\", \"HeartDisease\"])"
   ]
  },
  {
   "cell_type": "code",
   "execution_count": 10,
   "id": "774ffa91",
   "metadata": {
    "scrolled": true
   },
   "outputs": [
    {
     "data": {
      "text/plain": [
       "array([[<AxesSubplot:title={'center':'Age'}>,\n",
       "        <AxesSubplot:title={'center':'RestingBP'}>],\n",
       "       [<AxesSubplot:title={'center':'Cholesterol'}>,\n",
       "        <AxesSubplot:title={'center':'MaxHR'}>],\n",
       "       [<AxesSubplot:title={'center':'Oldpeak'}>, <AxesSubplot:>]],\n",
       "      dtype=object)"
      ]
     },
     "execution_count": 10,
     "metadata": {},
     "output_type": "execute_result"
    },
    {
     "data": {
      "image/png": "[encoded data removed]",
      "text/plain": [
       "<Figure size 504x504 with 6 Axes>"
      ]
     },
     "metadata": {
      "needs_background": "light"
     },
     "output_type": "display_data"
    }
   ],
   "source": [
    "heart.hist(column=[\"Age\", \"RestingBP\", \"Cholesterol\", \"MaxHR\", \"Oldpeak\"], figsize=[7,7])"
   ]
  },
  {
   "cell_type": "code",
   "execution_count": 11,
   "id": "d1e1b9df",
   "metadata": {
    "scrolled": true
   },
   "outputs": [
    {
     "data": {
      "text/plain": [
       "<AxesSubplot:>"
      ]
     },
     "execution_count": 11,
     "metadata": {},
     "output_type": "execute_result"
    },
    {
     "data": {
      "image/png": "[encoded data removed]",
      "text/plain": [
       "<Figure size 360x360 with 1 Axes>"
      ]
     },
     "metadata": {
      "needs_background": "light"
     },
     "output_type": "display_data"
    }
   ],
   "source": [
    "heart.boxplot(column=[\"Age\", \"RestingBP\", \"Cholesterol\", \"MaxHR\", \"Oldpeak\"], figsize=[5,5])"
   ]
  },
  {
   "cell_type": "code",
   "execution_count": 12,
   "id": "d6fee40c",
   "metadata": {},
   "outputs": [
    {
     "data": {
      "text/plain": [
       "<AxesSubplot:>"
      ]
     },
     "execution_count": 12,
     "metadata": {},
     "output_type": "execute_result"
    },
    {
     "data": {
      "image/png": "[encoded data removed]",
      "text/plain": [
       "<Figure size 360x360 with 1 Axes>"
      ]
     },
     "metadata": {
      "needs_background": "light"
     },
     "output_type": "display_data"
    }
   ],
   "source": [
    "heart.boxplot(column=[\"Oldpeak\"], figsize=[5,5])"
   ]
  },
  {
   "cell_type": "markdown",
   "id": "d75a1d2c",
   "metadata": {},
   "source": [
    "### Categorical Data Summary"
   ]
  },
  {
   "cell_type": "code",
   "execution_count": 13,
   "id": "4bd3061d",
   "metadata": {
    "scrolled": true
   },
   "outputs": [
    {
     "data": {
      "text/html": [
       "<div>\n",
       "<style scoped>\n",
       "    .dataframe tbody tr th:only-of-type {\n",
       "        vertical-align: middle;\n",
       "    }\n",
       "\n",
       "    .dataframe tbody tr th {\n",
       "        vertical-align: top;\n",
       "    }\n",
       "\n",
       "    .dataframe thead th {\n",
       "        text-align: right;\n",
       "    }\n",
       "</style>\n",
       "<table border=\"1\" class=\"dataframe\">\n",
       "  <thead>\n",
       "    <tr style=\"text-align: right;\">\n",
       "      <th></th>\n",
       "      <th>Sex</th>\n",
       "      <th>ChestPainType</th>\n",
       "      <th>FastingBS</th>\n",
       "      <th>RestingECG</th>\n",
       "      <th>ExerciseAngina</th>\n",
       "      <th>ST_Slope</th>\n",
       "      <th>HeartDisease</th>\n",
       "    </tr>\n",
       "  </thead>\n",
       "  <tbody>\n",
       "    <tr>\n",
       "      <th>count</th>\n",
       "      <td>746</td>\n",
       "      <td>746</td>\n",
       "      <td>746</td>\n",
       "      <td>746</td>\n",
       "      <td>746</td>\n",
       "      <td>746</td>\n",
       "      <td>746</td>\n",
       "    </tr>\n",
       "    <tr>\n",
       "      <th>unique</th>\n",
       "      <td>2</td>\n",
       "      <td>4</td>\n",
       "      <td>2</td>\n",
       "      <td>3</td>\n",
       "      <td>2</td>\n",
       "      <td>3</td>\n",
       "      <td>2</td>\n",
       "    </tr>\n",
       "    <tr>\n",
       "      <th>top</th>\n",
       "      <td>M</td>\n",
       "      <td>ASY</td>\n",
       "      <td>Below 120</td>\n",
       "      <td>Normal</td>\n",
       "      <td>N</td>\n",
       "      <td>Flat</td>\n",
       "      <td>No disease</td>\n",
       "    </tr>\n",
       "    <tr>\n",
       "      <th>freq</th>\n",
       "      <td>564</td>\n",
       "      <td>370</td>\n",
       "      <td>621</td>\n",
       "      <td>445</td>\n",
       "      <td>459</td>\n",
       "      <td>354</td>\n",
       "      <td>390</td>\n",
       "    </tr>\n",
       "  </tbody>\n",
       "</table>\n",
       "</div>"
      ],
      "text/plain": [
       "        Sex ChestPainType  FastingBS RestingECG ExerciseAngina ST_Slope  \\\n",
       "count   746           746        746        746            746      746   \n",
       "unique    2             4          2          3              2        3   \n",
       "top       M           ASY  Below 120     Normal              N     Flat   \n",
       "freq    564           370        621        445            459      354   \n",
       "\n",
       "       HeartDisease  \n",
       "count           746  \n",
       "unique            2  \n",
       "top      No disease  \n",
       "freq            390  "
      ]
     },
     "execution_count": 13,
     "metadata": {},
     "output_type": "execute_result"
    }
   ],
   "source": [
    "categorical=pd.read_csv('heart.csv')\n",
    "categorical=categorical[categorical.Cholesterol!=0]\n",
    "categorical=categorical[['Sex','ChestPainType','FastingBS','RestingECG','ExerciseAngina','ST_Slope','HeartDisease']]\n",
    "categorical.FastingBS.replace({0:'Below 120',1:'Above 120'}, inplace=True)\n",
    "categorical.HeartDisease.replace({0:'No disease',1:'Disease present'}, inplace=True)\n",
    "categorical.describe()"
   ]
  },
  {
   "cell_type": "code",
   "execution_count": 14,
   "id": "a37b714d",
   "metadata": {},
   "outputs": [
    {
     "name": "stdout",
     "output_type": "stream",
     "text": [
      "Unique values and counts for categorical columns:\n",
      "\n",
      "ASY    370\n",
      "NAP    169\n",
      "ATA    166\n",
      "TA      41\n",
      "Name: ChestPainType, dtype: int64\n",
      "_________________________________\n",
      "Flat    354\n",
      "Up      349\n",
      "Down     43\n",
      "Name: ST_Slope, dtype: int64\n",
      "________________________________\n",
      "Normal    445\n",
      "LVH       176\n",
      "ST        125\n",
      "Name: RestingECG, dtype: int64\n",
      "________________________________\n",
      "0    390\n",
      "1    356\n",
      "Name: HeartDisease, dtype: int64\n",
      "0 indicates not present, 1 indicates present\n",
      "________________________________\n",
      "1    564\n",
      "0    182\n",
      "Name: Sex, dtype: int64\n",
      "1 indicates male, 0 female\n",
      "________________________________\n",
      "0    459\n",
      "1    287\n",
      "Name: ExerciseAngina, dtype: int64\n",
      "0 indicates not present, 1 indicates present\n",
      "________________________________\n",
      "0    621\n",
      "1    125\n",
      "Name: FastingBS, dtype: int64\n",
      "0 indicates below 120 mg/dL, 1 indicates above\n",
      "________________________________\n"
     ]
    }
   ],
   "source": [
    "print('Unique values and counts for categorical columns:')\n",
    "print('')\n",
    "print(heart['ChestPainType'].value_counts())\n",
    "print('_________________________________')\n",
    "print(heart['ST_Slope'].value_counts())\n",
    "print('________________________________')\n",
    "print(heart['RestingECG'].value_counts())\n",
    "print('________________________________')\n",
    "print(heart['HeartDisease'].value_counts())\n",
    "print('0 indicates not present, 1 indicates present')\n",
    "print('________________________________')\n",
    "print(heart['Sex'].value_counts())\n",
    "print('1 indicates male, 0 female')\n",
    "print('________________________________')\n",
    "print(heart['ExerciseAngina'].value_counts())\n",
    "print('0 indicates not present, 1 indicates present')\n",
    "print('________________________________')\n",
    "print(heart['FastingBS'].value_counts())\n",
    "print('0 indicates below 120 mg/dL, 1 indicates above')\n",
    "print('________________________________')\n"
   ]
  },
  {
   "cell_type": "code",
   "execution_count": 15,
   "id": "559d78c4",
   "metadata": {
    "scrolled": true
   },
   "outputs": [
    {
     "data": {
      "image/png": "[encoded data removed]",
      "text/plain": [
       "<Figure size 432x288 with 1 Axes>"
      ]
     },
     "metadata": {},
     "output_type": "display_data"
    },
    {
     "data": {
      "image/png": "[encoded data removed]",
      "text/plain": [
       "<Figure size 432x288 with 1 Axes>"
      ]
     },
     "metadata": {},
     "output_type": "display_data"
    },
    {
     "data": {
      "image/png": "[encoded data removed]",
      "text/plain": [
       "<Figure size 432x288 with 1 Axes>"
      ]
     },
     "metadata": {},
     "output_type": "display_data"
    },
    {
     "data": {
      "image/png": "[encoded data removed]",
      "text/plain": [
       "<Figure size 432x288 with 1 Axes>"
      ]
     },
     "metadata": {},
     "output_type": "display_data"
    },
    {
     "data": {
      "image/png": "[encoded data removed]",
      "text/plain": [
       "<Figure size 432x288 with 1 Axes>"
      ]
     },
     "metadata": {},
     "output_type": "display_data"
    },
    {
     "data": {
      "image/png": "[encoded data removed]",
      "text/plain": [
       "<Figure size 432x288 with 1 Axes>"
      ]
     },
     "metadata": {},
     "output_type": "display_data"
    },
    {
     "data": {
      "image/png": "[encoded data removed]",
      "text/plain": [
       "<Figure size 432x288 with 1 Axes>"
      ]
     },
     "metadata": {},
     "output_type": "display_data"
    }
   ],
   "source": [
    "plt.figure(0)\n",
    "heart['ChestPainType'].value_counts().plot(kind='pie', title='Chest Pain Types')\n",
    "plt.figure(1)\n",
    "heart['ST_Slope'].value_counts().plot(kind='pie', title= 'ST Slope')\n",
    "plt.figure(2)\n",
    "heart['RestingECG'].value_counts().plot(kind='pie', title='Category of Resting ECG')\n",
    "plt.figure(3)\n",
    "heart['HeartDisease'].value_counts().plot(kind='pie', title='Had Heart Disease', labels=[\"No\",\"Yes\"])\n",
    "plt.figure(4)\n",
    "heart['Sex'].value_counts().plot(kind='pie', title='Sex', labels=[\"Male\",\"Female\"])\n",
    "plt.figure(5)\n",
    "heart['ExerciseAngina'].value_counts().plot(kind='pie', title='Exercise Angina', labels=[\"No\",\"Yes\"])\n",
    "plt.figure(6)\n",
    "heart['FastingBS'].value_counts().plot(kind='pie', title='Fasting Glucose over 120', labels=[\"No\",\"Yes\"])\n",
    "\n",
    "plt.show()\n"
   ]
  },
  {
   "cell_type": "markdown",
   "id": "95a08147",
   "metadata": {},
   "source": [
    "## Machine Learning Models"
   ]
  },
  {
   "cell_type": "markdown",
   "id": "f37da83e",
   "metadata": {},
   "source": [
    "### ROC Graph and Calculation Function Definition"
   ]
  },
  {
   "cell_type": "code",
   "execution_count": 16,
   "id": "0dfd1583",
   "metadata": {},
   "outputs": [],
   "source": [
    "#Function to plot ROC Curve and print ROC Area Under Curve\n",
    "def ROCCurve(model, xTest, yTest):\n",
    "    y_pred_probabilities = model.predict_proba(xTest)[:,1]\n",
    "    falsePos, truePos, thresholds = roc_curve(yTest, y_pred_probabilities)\n",
    "    plt.xlabel('False Positive Rate')\n",
    "    plt.ylabel('True Positive Rate')\n",
    "    plt.title('ROC Curve Graph')\n",
    "    plt.plot(falsePos, truePos)\n",
    "    plt.show()\n",
    "    \n",
    "    print(\"ROC AUC SCORE: \",roc_auc_score(yTest, y_pred_probabilities))\n",
    "    return roc_auc_score(yTest, y_pred_probabilities)\n",
    "\n",
    "#Function to take mean of list\n",
    "def mean(l):\n",
    "    return sum(l)/len(l)   "
   ]
  },
  {
   "cell_type": "markdown",
   "id": "1766644d",
   "metadata": {},
   "source": [
    "### K Nearest Neighbor Classification"
   ]
  },
  {
   "cell_type": "markdown",
   "id": "8095b052",
   "metadata": {},
   "source": [
    "#### Building the model\n"
   ]
  },
  {
   "cell_type": "code",
   "execution_count": 17,
   "id": "7eab0962",
   "metadata": {},
   "outputs": [],
   "source": [
    "#Base model off of scaled features, with dummy variables\n",
    "unlabeledWithoutScale=heartWithDummies.drop(columns=['HeartDisease'])\n",
    "labels=heartWithDummies['HeartDisease']\n",
    "\n",
    "#Scale data\n",
    "unlabeled = scale(unlabeledWithoutScale)\n",
    "\n",
    "\n",
    "#Create train test split\n",
    "xTrain, xTest, yTrain, yTest = train_test_split(unlabeled,labels,test_size=0.2, stratify=labels)"
   ]
  },
  {
   "cell_type": "code",
   "execution_count": 18,
   "id": "277f0744",
   "metadata": {
    "scrolled": true
   },
   "outputs": [
    {
     "data": {
      "text/plain": [
       "KNeighborsClassifier(n_neighbors=25)"
      ]
     },
     "execution_count": 18,
     "metadata": {},
     "output_type": "execute_result"
    }
   ],
   "source": [
    "#Train KNNModel\n",
    "KNNModel= KNeighborsClassifier(n_neighbors=25)\n",
    "KNNModel.fit(xTrain,yTrain)"
   ]
  },
  {
   "cell_type": "markdown",
   "id": "38b83402",
   "metadata": {},
   "source": [
    "#### Prediction and Evaluation"
   ]
  },
  {
   "cell_type": "code",
   "execution_count": 19,
   "id": "5aadcff4",
   "metadata": {
    "scrolled": true
   },
   "outputs": [
    {
     "name": "stdout",
     "output_type": "stream",
     "text": [
      "[[65 13]\n",
      " [11 61]]\n",
      "              precision    recall  f1-score   support\n",
      "\n",
      "           0       0.86      0.83      0.84        78\n",
      "           1       0.82      0.85      0.84        72\n",
      "\n",
      "    accuracy                           0.84       150\n",
      "   macro avg       0.84      0.84      0.84       150\n",
      "weighted avg       0.84      0.84      0.84       150\n",
      "\n"
     ]
    },
    {
     "data": {
      "image/png": "[encoded data removed]",
      "text/plain": [
       "<Figure size 432x288 with 1 Axes>"
      ]
     },
     "metadata": {
      "needs_background": "light"
     },
     "output_type": "display_data"
    },
    {
     "name": "stdout",
     "output_type": "stream",
     "text": [
      "ROC AUC SCORE:  0.920940170940171\n"
     ]
    }
   ],
   "source": [
    "#Predict using KNN Model, create confusion matrix and classification report\n",
    "KNNPredictions = KNNModel.predict(xTest)\n",
    "\n",
    "#Print Confusion Matrix and Classification Report\n",
    "print(confusion_matrix(y_pred=KNNPredictions,y_true=yTest))\n",
    "print(classification_report(y_pred=KNNPredictions,y_true=yTest))\n",
    "\n",
    "#Evaluate using cross validation, accuracy, F Score, and ROC evaluation\n",
    "crossValidator=cvs(KNeighborsClassifier(n_neighbors=25), xTrain,yTrain, cv=10)\n",
    "cvScoreKNN=crossValidator.mean()\n",
    "accKNN=accuracy_score(y_true=yTest, y_pred=KNNPredictions)\n",
    "fScoreKNN=f1_score(y_true=yTest, y_pred=KNNPredictions)\n",
    "rocValKNN=ROCCurve(KNNModel, xTest, yTest)"
   ]
  },
  {
   "cell_type": "code",
   "execution_count": 20,
   "id": "5ec278d8",
   "metadata": {},
   "outputs": [],
   "source": [
    "#Add score results to score lists and note which model is best\n",
    "cvScores.append(cvScoreKNN)\n",
    "models.append('KNN')\n",
    "fScores.append(fScoreKNN)\n",
    "auc.append(rocValKNN)\n",
    "accuracyScores.append(accKNN)\n",
    "\n",
    "if cvScoreKNN>bestAcc:\n",
    "    bestAccModel='KNN'\n",
    "    bestAcc=cvScoreKNN\n",
    "if fScoreKNN>bestF:\n",
    "    bestFModel='KNN'\n",
    "    bestF=fScoreKNN\n",
    "if rocValKNN>bestROC_AUC:\n",
    "    bestROCModel='KNN'\n",
    "    bestROC_AUC=rocValKNN\n",
    "if accKNN>bestSingleAcc:\n",
    "    bestSingleAccModel='KNN'\n",
    "    bestSingleAcc=accKNN"
   ]
  },
  {
   "cell_type": "markdown",
   "id": "a517aa52",
   "metadata": {},
   "source": [
    "#### GridSearch Hypertuning"
   ]
  },
  {
   "cell_type": "markdown",
   "id": "5631dfde",
   "metadata": {},
   "source": [
    "#Establish parameters and classifier\n",
    "params={'n_neighbors': range(1,50,2)}\n",
    "KNNNew=KNeighborsClassifier()\n",
    "\n",
    "#Create grid search, fit it, and print best parameters\n",
    "knnCV=GridSearchCV(KNNNew,params,cv=10)\n",
    "knnCV.fit(xTrain, yTrain)\n",
    "print(knnCV.best_params_)\n",
    "print(knnCV.best_score_)"
   ]
  },
  {
   "cell_type": "markdown",
   "id": "329199e9",
   "metadata": {},
   "source": [
    "### Random Forest Model\n"
   ]
  },
  {
   "cell_type": "markdown",
   "id": "99c4ba96",
   "metadata": {},
   "source": [
    "#### Building Model"
   ]
  },
  {
   "cell_type": "code",
   "execution_count": 21,
   "id": "ff577c67",
   "metadata": {
    "scrolled": false
   },
   "outputs": [
    {
     "data": {
      "text/plain": [
       "RandomForestClassifier(max_features='sqrt', n_estimators=500)"
      ]
     },
     "execution_count": 21,
     "metadata": {},
     "output_type": "execute_result"
    }
   ],
   "source": [
    "rfc=RandomForestClassifier(n_estimators=500, max_features='sqrt')\n",
    "rfc.fit(xTrain, yTrain)"
   ]
  },
  {
   "cell_type": "markdown",
   "id": "64132041",
   "metadata": {},
   "source": [
    "#### Predictions and Evaluation"
   ]
  },
  {
   "cell_type": "code",
   "execution_count": 22,
   "id": "a2338948",
   "metadata": {},
   "outputs": [
    {
     "data": {
      "image/png": "[encoded data removed]",
      "text/plain": [
       "<Figure size 432x288 with 1 Axes>"
      ]
     },
     "metadata": {
      "needs_background": "light"
     },
     "output_type": "display_data"
    },
    {
     "name": "stdout",
     "output_type": "stream",
     "text": [
      "ROC AUC SCORE:  0.9177350427350427\n",
      "[[62 16]\n",
      " [ 8 64]]\n",
      "              precision    recall  f1-score   support\n",
      "\n",
      "           0       0.89      0.79      0.84        78\n",
      "           1       0.80      0.89      0.84        72\n",
      "\n",
      "    accuracy                           0.84       150\n",
      "   macro avg       0.84      0.84      0.84       150\n",
      "weighted avg       0.84      0.84      0.84       150\n",
      "\n"
     ]
    }
   ],
   "source": [
    "#Predict on test set\n",
    "predictionsRFC=rfc.predict(xTest)\n",
    "\n",
    "#Calculate relevant statistics\n",
    "accRFC=accuracy_score(yTest, predictionsRFC)\n",
    "fScoreRFC=f1_score(yTest,predictionsRFC)\n",
    "crossValidator=cvs(RandomForestClassifier(n_estimators=500, max_features='sqrt'), xTrain,yTrain, cv=10)\n",
    "cvScoreRFC=crossValidator.mean()\n",
    "rocValRFC=ROCCurve(rfc, xTest, yTest)\n",
    "\n",
    "#Print confusion matrix and classification report\n",
    "print(confusion_matrix(y_pred=predictionsRFC, y_true=yTest))\n",
    "print(classification_report(y_pred=predictionsRFC, y_true=yTest))"
   ]
  },
  {
   "cell_type": "code",
   "execution_count": 23,
   "id": "8565efd5",
   "metadata": {
    "scrolled": true
   },
   "outputs": [],
   "source": [
    "#Add scores to scores list and note model performance\n",
    "cvScores.append(cvScoreRFC)\n",
    "models.append('RFC')\n",
    "fScores.append(fScoreRFC)\n",
    "auc.append(rocValRFC)\n",
    "accuracyScores.append(accRFC)\n",
    "\n",
    "if cvScoreRFC>bestAcc:\n",
    "    bestAccModel='RFC'\n",
    "    bestAcc=cvScoreRFC\n",
    "if fScoreRFC>bestF:\n",
    "    bestFModel='RFC'\n",
    "    bestF=fScoreRFC\n",
    "if rocValRFC>bestROC_AUC:\n",
    "    bestROCModel='RFC'\n",
    "    bestROC_AUC=rocValRFC\n",
    "if accRFC>bestSingleAcc:\n",
    "    bestSingleAccModel='RFC'\n",
    "    bestSingleAcc=accRFC"
   ]
  },
  {
   "cell_type": "markdown",
   "id": "4d026d12",
   "metadata": {},
   "source": [
    "#### Hyperparameter Tuning"
   ]
  },
  {
   "cell_type": "markdown",
   "id": "583d0937",
   "metadata": {},
   "source": [
    "max_features=[None, 'log2', 'sqrt']\n",
    "max_depth=[None,100,500,1000]\n",
    "min_samples_split=[2,5,10,15,20,25,30]\n",
    "min_samples_leaf=[2,4,6,8,10]\n",
    "n_estimators=[100,500,1000]\n",
    "\n",
    "#Establish parameters and classifier\n",
    "params={'max_depth':max_depth ,'min_samples_split':min_samples_split, 'min_samples_leaf':min_samples_leaf, 'max_features':max_features, 'n_estimators':n_estimators}\n",
    "NewRFC=RandomForestClassifier()\n",
    "\n",
    "#Create grid search, fit it, and print best parameters\n",
    "rfcCV=RandomizedSearchCV(NewRFC,params,cv=5, verbose=1)\n",
    "rfcCV.fit(xTrain, yTrain)\n",
    "\n",
    "print(rfcCV.best_params_)\n",
    "print(rfcCV.best_score_)\n",
    "\n",
    "#Note- the best parameters vary significantly for each trial, so I will continue to use the default"
   ]
  },
  {
   "cell_type": "markdown",
   "id": "1c04ad3e",
   "metadata": {},
   "source": [
    "### Logistic Regression\n"
   ]
  },
  {
   "cell_type": "markdown",
   "id": "4f2347b0",
   "metadata": {},
   "source": [
    "#### Build Model"
   ]
  },
  {
   "cell_type": "code",
   "execution_count": 24,
   "id": "516f56f2",
   "metadata": {
    "scrolled": true
   },
   "outputs": [
    {
     "data": {
      "text/plain": [
       "LogisticRegression(max_iter=300)"
      ]
     },
     "execution_count": 24,
     "metadata": {},
     "output_type": "execute_result"
    }
   ],
   "source": [
    "LRModel= LogisticRegression(max_iter=300)\n",
    "LRModel.fit(xTrain, yTrain)"
   ]
  },
  {
   "cell_type": "markdown",
   "id": "ed902eff",
   "metadata": {},
   "source": [
    "#### Prediction and Evaluation"
   ]
  },
  {
   "cell_type": "code",
   "execution_count": 25,
   "id": "55ffefeb",
   "metadata": {
    "scrolled": true
   },
   "outputs": [
    {
     "name": "stdout",
     "output_type": "stream",
     "text": [
      "[[61 17]\n",
      " [11 61]]\n",
      "              precision    recall  f1-score   support\n",
      "\n",
      "           0       0.85      0.78      0.81        78\n",
      "           1       0.78      0.85      0.81        72\n",
      "\n",
      "    accuracy                           0.81       150\n",
      "   macro avg       0.81      0.81      0.81       150\n",
      "weighted avg       0.82      0.81      0.81       150\n",
      "\n"
     ]
    },
    {
     "data": {
      "image/png": "[encoded data removed]",
      "text/plain": [
       "<Figure size 432x288 with 1 Axes>"
      ]
     },
     "metadata": {
      "needs_background": "light"
     },
     "output_type": "display_data"
    },
    {
     "name": "stdout",
     "output_type": "stream",
     "text": [
      "ROC AUC SCORE:  0.9075854700854701\n"
     ]
    }
   ],
   "source": [
    "#Predict on test set\n",
    "predictions=LRModel.predict(xTest)\n",
    "\n",
    "#Print confusion matrix, classification report, and calculate performance statistics\n",
    "print(confusion_matrix(y_pred=predictions, y_true=yTest))\n",
    "print(classification_report(y_pred=predictions, y_true=yTest))\n",
    "crossValidator=cvs(LogisticRegression(max_iter=300), xTrain,yTrain, cv=10)\n",
    "cvScoreLR=crossValidator.mean()\n",
    "fScoreLR=f1_score(yTest, predictions)\n",
    "accLR=accuracy_score(yTest, predictions)\n",
    "rocValLR=ROCCurve(LRModel, xTest, yTest)"
   ]
  },
  {
   "cell_type": "code",
   "execution_count": 26,
   "id": "009feebb",
   "metadata": {},
   "outputs": [],
   "source": [
    "#Add scores to scores list and note model performance\n",
    "cvScores.append(cvScoreLR)\n",
    "models.append('LR')\n",
    "fScores.append(fScoreLR)\n",
    "auc.append(rocValLR)\n",
    "accuracyScores.append(accLR)\n",
    "\n",
    "if cvScoreLR>bestAcc:\n",
    "    bestAccModel='LR'\n",
    "    bestAcc=cvScoreLR\n",
    "if fScoreLR>bestF:\n",
    "    bestFModel='LR'\n",
    "    bestF=fScoreLR\n",
    "if rocValLR>bestROC_AUC:\n",
    "    bestROCModel='LR'\n",
    "    bestROC_AUC=rocValLR\n",
    "if accLR>bestSingleAcc:\n",
    "    bestSingleAccModel='LR'\n",
    "    bestSingleAcc=accLR"
   ]
  },
  {
   "cell_type": "markdown",
   "id": "1fd5afc2",
   "metadata": {},
   "source": [
    "#### Hyperparameter Tuning"
   ]
  },
  {
   "cell_type": "markdown",
   "id": "60a00c6f",
   "metadata": {},
   "source": [
    "C=[0.01,0.1,1,10,100]\n",
    "penalty=['l2']\n",
    "solver=['lbfgs','newton-cg','sag','saga']\n",
    "params={'C':C, 'penalty':penalty, 'solver':solver}\n",
    "\n",
    "LRModelNew= LogisticRegression(max_iter=1000000)\n",
    "LRCV= GridSearchCV(LRModelNew, params, cv=10)\n",
    "\n",
    "LRCV.fit(xTrain, yTrain)\n",
    "print(LRCV.best_params_)\n",
    "print(LRCV.best_score_)"
   ]
  },
  {
   "cell_type": "markdown",
   "id": "09ca1b5a",
   "metadata": {},
   "source": [
    "### HistGradientBoosting Classifier"
   ]
  },
  {
   "cell_type": "markdown",
   "id": "394faa24",
   "metadata": {},
   "source": [
    "#### Build Model"
   ]
  },
  {
   "cell_type": "markdown",
   "id": "2e881a57",
   "metadata": {},
   "source": [
    "#Create new dataframe with categorical variables encoded properly\n",
    "heartx=pd.read_csv('heart.csv')\n",
    "heartx=heart[heart.Cholesterol!=0].copy()\n",
    "heartx['ST_Slope'].replace({'Up':1, 'Flat':0, 'Down':2}, inplace=True)\n",
    "heartx['RestingECG'].replace({'Normal':1, 'LVH':0, 'ST':2}, inplace=True)\n",
    "heartx['ChestPainType'].replace({'ASY':0, 'NAP':1, 'ATA':2, \"TA\":3}, inplace=True)\n",
    "\n",
    "#Create train test split\n",
    "unlabeled=heartx.drop(columns=['HeartDisease'])\n",
    "labeled=heartx.HeartDisease\n",
    "xTrain, xTest, yTrain, yTest = train_test_split(unlabeled,labeled,test_size=0.2, stratify=labels)"
   ]
  },
  {
   "cell_type": "markdown",
   "id": "941814d3",
   "metadata": {},
   "source": [
    "#Build and train model, and make predictions\n",
    "model=HistGradientBoostingClassifier(categorical_features=[False, True,True,False,False,True,True,False,True,False,True])\n",
    "model.fit(xTrain, yTrain)"
   ]
  },
  {
   "cell_type": "markdown",
   "id": "8cd23e3f",
   "metadata": {},
   "source": [
    "#### Prediction and Evaluation"
   ]
  },
  {
   "cell_type": "markdown",
   "id": "77d8dda5",
   "metadata": {},
   "source": [
    "#Make predictions\n",
    "pred=model.predict(xTest)\n",
    "\n",
    "#Print confusion matrix, classification report, and get score statistics\n",
    "print(confusion_matrix(y_pred=pred, y_true=yTest))\n",
    "print(classification_report(y_pred=pred, y_true=yTest))\n",
    "\n",
    "model2=HistGradientBoostingClassifier(categorical_features=[False, True,True,False,False,True,True,False,True,False,True])\n",
    "crossValidator=cvs(model2, xTrain,yTrain, cv=10)\n",
    "cvScoreHist=crossValidator.mean()\n",
    "fScoreHist=f1_score(yTest, pred)\n",
    "accHist=accuracy_score(yTest, pred)\n",
    "rocValHist=ROCCurve(model, xTest, yTest)"
   ]
  },
  {
   "cell_type": "markdown",
   "id": "9c5348e3",
   "metadata": {},
   "source": [
    "cvScores.append(cvScoreHist)\n",
    "models.append('Hist')\n",
    "fScores.append(fScoreHist)\n",
    "auc.append(rocValHist)\n",
    "accuracyScores.append(accHist)\n",
    "\n",
    "#Note model performance in comparison to others\n",
    "if cvScoreHist>bestAcc:\n",
    "    bestAccModel='Hist'\n",
    "    bestAcc=cvScoreHist\n",
    "if fScoreHist>bestF:\n",
    "    bestFModel='Hist'\n",
    "    bestF=fScoreHist\n",
    "if rocValHist>bestROC_AUC:\n",
    "    bestROCModel='Hist'\n",
    "    bestROC_AUC=rocValHist\n",
    "if accHist>bestSingleAcc:\n",
    "    bestSingleAccModel='Hist'\n",
    "    bestSingleAcc=accHist\n"
   ]
  },
  {
   "cell_type": "markdown",
   "id": "0538503a",
   "metadata": {},
   "source": [
    "### Combination of Models\n"
   ]
  },
  {
   "cell_type": "markdown",
   "id": "3fe40c74",
   "metadata": {},
   "source": [
    "#### Build Model"
   ]
  },
  {
   "cell_type": "code",
   "execution_count": 27,
   "id": "aea8c3ce",
   "metadata": {},
   "outputs": [
    {
     "data": {
      "text/plain": [
       "VotingClassifier(estimators=[('KN', KNeighborsClassifier(n_neighbors=25)),\n",
       "                             ('RF', RandomForestClassifier(n_estimators=400)),\n",
       "                             ('LR', LogisticRegression(max_iter=5000))],\n",
       "                 voting='soft', weights=[1, 2, 1])"
      ]
     },
     "execution_count": 27,
     "metadata": {},
     "output_type": "execute_result"
    }
   ],
   "source": [
    "#Create ensemble model\n",
    "KNNModel= KNeighborsClassifier(n_neighbors=25)\n",
    "\n",
    "rfc=RandomForestClassifier(n_estimators=400)\n",
    "\n",
    "LRModel= LogisticRegression(max_iter=5000)\n",
    "\n",
    "combo = VotingClassifier(estimators=[('KN', KNNModel), ('RF', rfc), ('LR', LRModel)],\n",
    "                        voting='soft',\n",
    "                        weights=[1, 2, 1])\n",
    "\n",
    "#Fit model\n",
    "combo.fit(xTrain,yTrain)"
   ]
  },
  {
   "cell_type": "markdown",
   "id": "317736a3",
   "metadata": {},
   "source": [
    "#### Prediction and Evaluation"
   ]
  },
  {
   "cell_type": "code",
   "execution_count": 28,
   "id": "96fb395d",
   "metadata": {},
   "outputs": [
    {
     "data": {
      "image/png": "[encoded data removed]",
      "text/plain": [
       "<Figure size 432x288 with 1 Axes>"
      ]
     },
     "metadata": {
      "needs_background": "light"
     },
     "output_type": "display_data"
    },
    {
     "name": "stdout",
     "output_type": "stream",
     "text": [
      "ROC AUC SCORE:  0.9200498575498576\n",
      "[[61 17]\n",
      " [11 61]]\n",
      "              precision    recall  f1-score   support\n",
      "\n",
      "           0       0.85      0.78      0.81        78\n",
      "           1       0.78      0.85      0.81        72\n",
      "\n",
      "    accuracy                           0.81       150\n",
      "   macro avg       0.81      0.81      0.81       150\n",
      "weighted avg       0.82      0.81      0.81       150\n",
      "\n"
     ]
    }
   ],
   "source": [
    "#Make predictions\n",
    "comboPredictions=combo.predict(xTest)\n",
    "\n",
    "#Get model scores\n",
    "crossValidator=cvs(VotingClassifier(estimators=[('KN', KNNModel), ('RF', rfc), ('LR', LRModel)], voting='soft',weights=[1, 2, 1]), xTrain,yTrain, cv=10)\n",
    "cvScoreE=crossValidator.mean()\n",
    "fScoreE=f1_score(yTest, comboPredictions)\n",
    "accE=accuracy_score(yTest, comboPredictions)\n",
    "rocValE=ROCCurve(combo, xTest, yTest)\n",
    "\n",
    "#Print confusion matrix and classification report\n",
    "print(confusion_matrix(y_pred=predictions, y_true=yTest))\n",
    "print(classification_report(y_pred=predictions, y_true=yTest))"
   ]
  },
  {
   "cell_type": "code",
   "execution_count": 29,
   "id": "a230b893",
   "metadata": {},
   "outputs": [],
   "source": [
    "#Add scores to score lists\n",
    "cvScores.append(cvScoreE)\n",
    "models.append('Ensemble')\n",
    "fScores.append(fScoreE)\n",
    "auc.append(rocValE)\n",
    "accuracyScores.append(accE)\n",
    "\n",
    "#Note model performance compared to others\n",
    "if cvScoreE>bestAcc:\n",
    "    bestAccModel='Ensemble'\n",
    "if fScoreE>bestF:\n",
    "    bestFModel='Ensemble'\n",
    "if rocValE>bestROC_AUC:\n",
    "    bestROCModel='Ensemble'\n",
    "if accE>bestSingleAcc:\n",
    "    bestSingleAccModel='Ensemble'\n"
   ]
  },
  {
   "cell_type": "markdown",
   "id": "add6ffa7",
   "metadata": {},
   "source": [
    "#### Hyperparameter Tuning"
   ]
  },
  {
   "cell_type": "markdown",
   "id": "e06692be",
   "metadata": {},
   "source": [
    "params={'voting':['hard','soft'], 'weights':[(1,1,1),(1,1,2),(1,2,1),(2,1,1), (2,2,1), (2,1,2), (1,2,2), (2,3,2), (3,4,3)]}\n",
    "KNNModel= KNeighborsClassifier(n_neighbors=30)\n",
    "\n",
    "rfc=RandomForestClassifier(n_estimators=400)\n",
    "\n",
    "LRModel= LogisticRegression(max_iter=1000)\n",
    "\n",
    "comboNew = VotingClassifier(estimators=[('KN', KNNModel), ('RF', rfc), ('LR', LRModel)])\n",
    "\n",
    "\n",
    "#Create grid search, fit it, and print best parameters\n",
    "comboNewCV=GridSearchCV(comboNew,params,cv=5, verbose=1)\n",
    "comboNewCV.fit(xTrain, yTrain)\n",
    "\n",
    "print(comboNewCV.best_params_)\n",
    "print(comboNewCV.best_score_)"
   ]
  },
  {
   "cell_type": "markdown",
   "id": "62676a19",
   "metadata": {},
   "source": [
    "## Model Comparison"
   ]
  },
  {
   "cell_type": "markdown",
   "id": "5192c8e2",
   "metadata": {},
   "source": [
    "### Graphical Comparison"
   ]
  },
  {
   "cell_type": "code",
   "execution_count": 30,
   "id": "ba71f8ae",
   "metadata": {
    "scrolled": true
   },
   "outputs": [
    {
     "data": {
      "text/plain": [
       "<AxesSubplot:title={'center':'Model Comparison'}, xlabel='Models'>"
      ]
     },
     "execution_count": 30,
     "metadata": {},
     "output_type": "execute_result"
    },
    {
     "data": {
      "image/png": "[encoded data removed]",
      "text/plain": [
       "<Figure size 432x288 with 1 Axes>"
      ]
     },
     "metadata": {
      "needs_background": "light"
     },
     "output_type": "display_data"
    }
   ],
   "source": [
    "#Plot model comparison by average accuracy across K fold cross validation trials\n",
    "df=pd.DataFrame()\n",
    "df['Models']=models\n",
    "df['Accuracy CV Scores']=cvScores\n",
    "df['ROC Area Under Curve Scores']=auc\n",
    "df['FScore']=fScores\n",
    "df['Accuracy']=accuracyScores\n",
    "\n",
    "\n",
    "df=df.set_index('Models')\n",
    "df.plot(kind='bar', ylim=(.70,1), title='Model Comparison')"
   ]
  },
  {
   "cell_type": "code",
   "execution_count": 31,
   "id": "8ad69160",
   "metadata": {},
   "outputs": [
    {
     "data": {
      "text/plain": [
       "<AxesSubplot:title={'center':'Model Comparison by Averaged Accuracy'}, xlabel='Models'>"
      ]
     },
     "execution_count": 31,
     "metadata": {},
     "output_type": "execute_result"
    },
    {
     "data": {
      "image/png": "[encoded data removed]",
      "text/plain": [
       "<Figure size 432x288 with 1 Axes>"
      ]
     },
     "metadata": {
      "needs_background": "light"
     },
     "output_type": "display_data"
    }
   ],
   "source": [
    "#Plot model comparison by average accuracy across K fold cross validation trials\n",
    "df=pd.DataFrame()\n",
    "df['Models']=models\n",
    "df['Accuracy CV Scores']=cvScores\n",
    "\n",
    "\n",
    "df=df.set_index('Models')\n",
    "df.plot(kind='bar', ylim=(.70,1), title='Model Comparison by Averaged Accuracy')"
   ]
  },
  {
   "cell_type": "code",
   "execution_count": 32,
   "id": "15a5b3b4",
   "metadata": {
    "scrolled": true
   },
   "outputs": [
    {
     "data": {
      "text/plain": [
       "<AxesSubplot:title={'center':'Model Comparison by ROC Area Under Curve Scores'}, xlabel='Models'>"
      ]
     },
     "execution_count": 32,
     "metadata": {},
     "output_type": "execute_result"
    },
    {
     "data": {
      "image/png": "[encoded data removed]",
      "text/plain": [
       "<Figure size 432x288 with 1 Axes>"
      ]
     },
     "metadata": {
      "needs_background": "light"
     },
     "output_type": "display_data"
    }
   ],
   "source": [
    "#Plot model comparison by ROC area under curve\n",
    "df=pd.DataFrame()\n",
    "df['Models']=models\n",
    "df['ROC Area Under Curve Scores']=auc\n",
    "df=df.set_index('Models')\n",
    "df.plot(kind='bar', ylim=(.70,1), title='Model Comparison by ROC Area Under Curve Scores')"
   ]
  },
  {
   "cell_type": "code",
   "execution_count": 33,
   "id": "0c71b4cd",
   "metadata": {
    "scrolled": true
   },
   "outputs": [
    {
     "data": {
      "text/plain": [
       "<AxesSubplot:title={'center':'Model Comparison by F Scores'}, xlabel='Models'>"
      ]
     },
     "execution_count": 33,
     "metadata": {},
     "output_type": "execute_result"
    },
    {
     "data": {
      "image/png": "[encoded data removed]",
      "text/plain": [
       "<Figure size 432x288 with 1 Axes>"
      ]
     },
     "metadata": {
      "needs_background": "light"
     },
     "output_type": "display_data"
    }
   ],
   "source": [
    "#Plot model comparison by F1 Scores\n",
    "df=pd.DataFrame()\n",
    "df['Models']=models\n",
    "df['FScore']=fScores\n",
    "df=df.set_index('Models')\n",
    "df.plot(kind='bar', ylim=(.70,1), title='Model Comparison by F Scores')"
   ]
  },
  {
   "cell_type": "code",
   "execution_count": 34,
   "id": "31ef7131",
   "metadata": {
    "scrolled": true
   },
   "outputs": [
    {
     "data": {
      "text/plain": [
       "<AxesSubplot:title={'center':'Model Comparison by Single Accuracy'}, xlabel='Models'>"
      ]
     },
     "execution_count": 34,
     "metadata": {},
     "output_type": "execute_result"
    },
    {
     "data": {
      "image/png": "[encoded data removed]",
      "text/plain": [
       "<Figure size 432x288 with 1 Axes>"
      ]
     },
     "metadata": {
      "needs_background": "light"
     },
     "output_type": "display_data"
    }
   ],
   "source": [
    "#Plot model comparison by single accuracy measurement\n",
    "df=pd.DataFrame()\n",
    "df['Models']=models\n",
    "df['Accuracy']=accuracyScores\n",
    "df=df.set_index('Models')\n",
    "df.plot(kind='bar', ylim=(.70,1), title='Model Comparison by Single Accuracy')"
   ]
  },
  {
   "cell_type": "markdown",
   "id": "cf5c4690",
   "metadata": {},
   "source": [
    "### Numeric Summary"
   ]
  },
  {
   "cell_type": "code",
   "execution_count": 35,
   "id": "ff18f37b",
   "metadata": {
    "scrolled": true
   },
   "outputs": [
    {
     "name": "stdout",
     "output_type": "stream",
     "text": [
      "Models\n",
      "['KNN', 'RFC', 'LR', 'Ensemble']\n",
      "CV Accuracy\n",
      "[0.8691807909604521, 0.8775423728813561, 0.8709039548022599, 0.8792090395480227]\n",
      "ROC AUC\n",
      "[0.920940170940171, 0.9177350427350427, 0.9075854700854701, 0.9200498575498576]\n",
      "F Score\n",
      "[0.8356164383561645, 0.8421052631578948, 0.8133333333333332, 0.8322147651006712]\n",
      "Single Accuracy\n",
      "[0.84, 0.84, 0.8133333333333334, 0.8333333333333334]\n",
      "______________________________________________________________________\n",
      "Most Accurate Model: Ensemble\n",
      "Best Accuracy Score from Cross Validation:  0.8792090395480227\n",
      "Best ROC AUC Model: KNN\n",
      "Best ROC Score from Cross Validation:  0.920940170940171\n",
      "Best F Score Model: RFC\n",
      "Best F Score from Cross Validation:  0.8421052631578948\n",
      "Best Single Accuracy Model: KNN\n",
      "Best Single Accuracy:  0.84\n"
     ]
    }
   ],
   "source": [
    "#Print performance, statistics, and best models by different evaluations\n",
    "print(\"Models\")\n",
    "print(models)\n",
    "print(\"CV Accuracy\")\n",
    "print(cvScores)\n",
    "print(\"ROC AUC\")\n",
    "print(auc)\n",
    "print(\"F Score\")\n",
    "print(fScores)\n",
    "print(\"Single Accuracy\")\n",
    "print(accuracyScores)\n",
    "print(\"______________________________________________________________________\")\n",
    "print(\"Most Accurate Model: \" + bestAccModel)\n",
    "print(\"Best Accuracy Score from Cross Validation: \" , max(cvScores))\n",
    "print(\"Best ROC AUC Model: \" + bestROCModel)\n",
    "print(\"Best ROC Score from Cross Validation: \" , max(auc))\n",
    "print(\"Best F Score Model: \" + bestFModel)\n",
    "print(\"Best F Score from Cross Validation: \" , max(fScores))\n",
    "print(\"Best Single Accuracy Model: \" + bestSingleAccModel)\n",
    "print(\"Best Single Accuracy: \" , max(accuracyScores))"
   ]
  },
  {
   "cell_type": "code",
   "execution_count": 36,
   "id": "a7f419fd",
   "metadata": {},
   "outputs": [],
   "source": [
    "#Uncomment for simple print of max scores\n",
    "\n",
    "#print(max(cvScores))\n",
    "#print(max(auc))\n",
    "#print(max(fScores))\n",
    "#print(max(accuracyScores))"
   ]
  },
  {
   "cell_type": "code",
   "execution_count": 37,
   "id": "94323ea5",
   "metadata": {
    "scrolled": false
   },
   "outputs": [
    {
     "name": "stdout",
     "output_type": "stream",
     "text": [
      "CV Accuracy Mean\n",
      "0.8742090395480226\n",
      "\n",
      "ROC AUC Mean\n",
      "0.9165776353276354\n",
      "\n",
      "F Score Mean\n",
      "0.830817449987016\n",
      "\n",
      "Single Accuracy Mean\n",
      "0.8316666666666667\n"
     ]
    }
   ],
   "source": [
    "#Print mean of various model statistics\n",
    "print(\"CV Accuracy Mean\")\n",
    "print(mean(cvScores))\n",
    "print()\n",
    "print(\"ROC AUC Mean\")\n",
    "print(mean(auc))\n",
    "print()\n",
    "print(\"F Score Mean\")\n",
    "print(mean(fScores))\n",
    "print()\n",
    "print(\"Single Accuracy Mean\")\n",
    "print(mean(accuracyScores))"
   ]
  },
  {
   "cell_type": "code",
   "execution_count": null,
   "id": "8ed0dabc",
   "metadata": {},
   "outputs": [],
   "source": []
  }
 ],
 "metadata": {
  "kernelspec": {
   "display_name": "Python 3 (ipykernel)",
   "language": "python",
   "name": "python3"
  },
  "language_info": {
   "codemirror_mode": {
    "name": "ipython",
    "version": 3
   },
   "file_extension": ".py",
   "mimetype": "text/x-python",
   "name": "python",
   "nbconvert_exporter": "python",
   "pygments_lexer": "ipython3",
   "version": "3.9.12"
  },
  "toc": {
   "base_numbering": 1,
   "nav_menu": {},
   "number_sections": false,
   "sideBar": true,
   "skip_h1_title": false,
   "title_cell": "Table of Contents",
   "title_sidebar": "Contents",
   "toc_cell": false,
   "toc_position": {
    "height": "calc(100% - 180px)",
    "left": "10px",
    "top": "150px",
    "width": "325.817px"
   },
   "toc_section_display": false,
   "toc_window_display": false
  }
 },
 "nbformat": 4,
 "nbformat_minor": 5
}
